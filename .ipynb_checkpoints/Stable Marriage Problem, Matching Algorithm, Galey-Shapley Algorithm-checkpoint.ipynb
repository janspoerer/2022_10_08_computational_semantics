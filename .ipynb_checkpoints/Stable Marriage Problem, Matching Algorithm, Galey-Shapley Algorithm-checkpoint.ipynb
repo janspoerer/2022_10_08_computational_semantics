{
 "cells": [
  {
   "cell_type": "markdown",
   "id": "1248a8e0",
   "metadata": {},
   "source": [
    "Given n men and n women, where each person has ranked all potential mates (from the opposite sex), match those people so that no two people of opposite sex would both rather have each other than their current partners."
   ]
  },
  {
   "cell_type": "code",
   "execution_count": 1,
   "id": "c845e979",
   "metadata": {},
   "outputs": [
    {
     "name": "stdout",
     "output_type": "stream",
     "text": [
      "'Preference List.xlsx'\r\n",
      " README.md\r\n",
      "'Stable Marriage Problem, Matching Algorithm, Galey-Shapley Algorithm.ipynb'\r\n"
     ]
    }
   ],
   "source": [
    "!ls"
   ]
  },
  {
   "cell_type": "code",
   "execution_count": 2,
   "id": "29be8ea4",
   "metadata": {},
   "outputs": [],
   "source": [
    "import pandas as pd\n",
    "df_people = pd.read_excel(\"Preference List.xlsx\")\n",
    "type(df_people.loc[0, \"Preferences\"])\n",
    "df_people[\"Preferences\"] = df_people[\"Preferences\"].str.split(\", \", expand=False)"
   ]
  },
  {
   "cell_type": "code",
   "execution_count": 3,
   "id": "89415647",
   "metadata": {},
   "outputs": [
    {
     "data": {
      "text/html": [
       "<div>\n",
       "<style scoped>\n",
       "    .dataframe tbody tr th:only-of-type {\n",
       "        vertical-align: middle;\n",
       "    }\n",
       "\n",
       "    .dataframe tbody tr th {\n",
       "        vertical-align: top;\n",
       "    }\n",
       "\n",
       "    .dataframe thead th {\n",
       "        text-align: right;\n",
       "    }\n",
       "</style>\n",
       "<table border=\"1\" class=\"dataframe\">\n",
       "  <thead>\n",
       "    <tr style=\"text-align: right;\">\n",
       "      <th></th>\n",
       "      <th>Gender</th>\n",
       "      <th>Preferences</th>\n",
       "      <th>Partner</th>\n",
       "    </tr>\n",
       "    <tr>\n",
       "      <th>Name</th>\n",
       "      <th></th>\n",
       "      <th></th>\n",
       "      <th></th>\n",
       "    </tr>\n",
       "  </thead>\n",
       "  <tbody>\n",
       "    <tr>\n",
       "      <th>Anne</th>\n",
       "      <td>f</td>\n",
       "      <td>[Dieter, Emil, Claudio, Berthold, Anton]</td>\n",
       "      <td>None</td>\n",
       "    </tr>\n",
       "    <tr>\n",
       "      <th>Berta</th>\n",
       "      <td>f</td>\n",
       "      <td>[Dieter, Emil, Claudio, Berthold, Anton]</td>\n",
       "      <td>None</td>\n",
       "    </tr>\n",
       "    <tr>\n",
       "      <th>Claudia</th>\n",
       "      <td>f</td>\n",
       "      <td>[Berthold, Anton, Dieter, Emil, Claudio]</td>\n",
       "      <td>None</td>\n",
       "    </tr>\n",
       "    <tr>\n",
       "      <th>Diana</th>\n",
       "      <td>f</td>\n",
       "      <td>[Claudio, Berthold, Anton, Dieter, Emil]</td>\n",
       "      <td>None</td>\n",
       "    </tr>\n",
       "    <tr>\n",
       "      <th>Fiona</th>\n",
       "      <td>f</td>\n",
       "      <td>[Dieter, Emil, Claudio, Berthold, Anton]</td>\n",
       "      <td>None</td>\n",
       "    </tr>\n",
       "    <tr>\n",
       "      <th>Anton</th>\n",
       "      <td>m</td>\n",
       "      <td>[Claudia, Fiona, Diana, Berta, Anne]</td>\n",
       "      <td>None</td>\n",
       "    </tr>\n",
       "    <tr>\n",
       "      <th>Berthold</th>\n",
       "      <td>m</td>\n",
       "      <td>[Claudia, Fiona, Diana, Berta, Anne]</td>\n",
       "      <td>None</td>\n",
       "    </tr>\n",
       "    <tr>\n",
       "      <th>Claudio</th>\n",
       "      <td>m</td>\n",
       "      <td>[Berta, Anne, Claudia, Fiona, Diana]</td>\n",
       "      <td>None</td>\n",
       "    </tr>\n",
       "    <tr>\n",
       "      <th>Dieter</th>\n",
       "      <td>m</td>\n",
       "      <td>[Diana, Berta, Anne, Claudia, Fiona]</td>\n",
       "      <td>None</td>\n",
       "    </tr>\n",
       "    <tr>\n",
       "      <th>Emil</th>\n",
       "      <td>m</td>\n",
       "      <td>[Fiona, Diana, Berta, Anne, Claudia]</td>\n",
       "      <td>None</td>\n",
       "    </tr>\n",
       "  </tbody>\n",
       "</table>\n",
       "</div>"
      ],
      "text/plain": [
       "         Gender                               Preferences Partner\n",
       "Name                                                             \n",
       "Anne          f  [Dieter, Emil, Claudio, Berthold, Anton]    None\n",
       "Berta         f  [Dieter, Emil, Claudio, Berthold, Anton]    None\n",
       "Claudia       f  [Berthold, Anton, Dieter, Emil, Claudio]    None\n",
       "Diana         f  [Claudio, Berthold, Anton, Dieter, Emil]    None\n",
       "Fiona         f  [Dieter, Emil, Claudio, Berthold, Anton]    None\n",
       "Anton         m      [Claudia, Fiona, Diana, Berta, Anne]    None\n",
       "Berthold      m      [Claudia, Fiona, Diana, Berta, Anne]    None\n",
       "Claudio       m      [Berta, Anne, Claudia, Fiona, Diana]    None\n",
       "Dieter        m      [Diana, Berta, Anne, Claudia, Fiona]    None\n",
       "Emil          m      [Fiona, Diana, Berta, Anne, Claudia]    None"
      ]
     },
     "execution_count": 3,
     "metadata": {},
     "output_type": "execute_result"
    }
   ],
   "source": [
    "df_people[\"Partner\"] = None\n",
    "df_people = df_people.set_index(\"Name\")\n",
    "df_people"
   ]
  },
  {
   "cell_type": "markdown",
   "id": "412eb705",
   "metadata": {},
   "source": [
    "## Implementation of the Galey-Shapley Algorithm\n",
    "\n",
    "Every free men gets a women according to his preference (if she is still free). Assign women to men by iterating over all men.\n",
    "\n",
    "If a woman is not free, and she finds that she liked the proposing man more than her current partner, then she takes the proposing man.\n",
    "\n",
    "Repeat the entire process over and over until everybody is married"
   ]
  },
  {
   "cell_type": "code",
   "execution_count": 4,
   "id": "66ec66fa",
   "metadata": {},
   "outputs": [
    {
     "data": {
      "text/html": [
       "<div>\n",
       "<style scoped>\n",
       "    .dataframe tbody tr th:only-of-type {\n",
       "        vertical-align: middle;\n",
       "    }\n",
       "\n",
       "    .dataframe tbody tr th {\n",
       "        vertical-align: top;\n",
       "    }\n",
       "\n",
       "    .dataframe thead th {\n",
       "        text-align: right;\n",
       "    }\n",
       "</style>\n",
       "<table border=\"1\" class=\"dataframe\">\n",
       "  <thead>\n",
       "    <tr style=\"text-align: right;\">\n",
       "      <th></th>\n",
       "      <th>Gender</th>\n",
       "      <th>Preferences</th>\n",
       "      <th>Partner</th>\n",
       "    </tr>\n",
       "    <tr>\n",
       "      <th>Name</th>\n",
       "      <th></th>\n",
       "      <th></th>\n",
       "      <th></th>\n",
       "    </tr>\n",
       "  </thead>\n",
       "  <tbody>\n",
       "    <tr>\n",
       "      <th>Anne</th>\n",
       "      <td>f</td>\n",
       "      <td>[Dieter, Emil, Claudio, Berthold, Anton]</td>\n",
       "      <td>None</td>\n",
       "    </tr>\n",
       "    <tr>\n",
       "      <th>Berta</th>\n",
       "      <td>f</td>\n",
       "      <td>[Dieter, Emil, Claudio, Berthold, Anton]</td>\n",
       "      <td>None</td>\n",
       "    </tr>\n",
       "    <tr>\n",
       "      <th>Claudia</th>\n",
       "      <td>f</td>\n",
       "      <td>[Berthold, Anton, Dieter, Emil, Claudio]</td>\n",
       "      <td>None</td>\n",
       "    </tr>\n",
       "    <tr>\n",
       "      <th>Diana</th>\n",
       "      <td>f</td>\n",
       "      <td>[Claudio, Berthold, Anton, Dieter, Emil]</td>\n",
       "      <td>None</td>\n",
       "    </tr>\n",
       "    <tr>\n",
       "      <th>Fiona</th>\n",
       "      <td>f</td>\n",
       "      <td>[Dieter, Emil, Claudio, Berthold, Anton]</td>\n",
       "      <td>None</td>\n",
       "    </tr>\n",
       "    <tr>\n",
       "      <th>Anton</th>\n",
       "      <td>m</td>\n",
       "      <td>[Claudia, Fiona, Diana, Berta, Anne]</td>\n",
       "      <td>None</td>\n",
       "    </tr>\n",
       "    <tr>\n",
       "      <th>Berthold</th>\n",
       "      <td>m</td>\n",
       "      <td>[Claudia, Fiona, Diana, Berta, Anne]</td>\n",
       "      <td>None</td>\n",
       "    </tr>\n",
       "    <tr>\n",
       "      <th>Claudio</th>\n",
       "      <td>m</td>\n",
       "      <td>[Berta, Anne, Claudia, Fiona, Diana]</td>\n",
       "      <td>None</td>\n",
       "    </tr>\n",
       "    <tr>\n",
       "      <th>Dieter</th>\n",
       "      <td>m</td>\n",
       "      <td>[Diana, Berta, Anne, Claudia, Fiona]</td>\n",
       "      <td>None</td>\n",
       "    </tr>\n",
       "    <tr>\n",
       "      <th>Emil</th>\n",
       "      <td>m</td>\n",
       "      <td>[Fiona, Diana, Berta, Anne, Claudia]</td>\n",
       "      <td>None</td>\n",
       "    </tr>\n",
       "  </tbody>\n",
       "</table>\n",
       "</div>"
      ],
      "text/plain": [
       "         Gender                               Preferences Partner\n",
       "Name                                                             \n",
       "Anne          f  [Dieter, Emil, Claudio, Berthold, Anton]    None\n",
       "Berta         f  [Dieter, Emil, Claudio, Berthold, Anton]    None\n",
       "Claudia       f  [Berthold, Anton, Dieter, Emil, Claudio]    None\n",
       "Diana         f  [Claudio, Berthold, Anton, Dieter, Emil]    None\n",
       "Fiona         f  [Dieter, Emil, Claudio, Berthold, Anton]    None\n",
       "Anton         m      [Claudia, Fiona, Diana, Berta, Anne]    None\n",
       "Berthold      m      [Claudia, Fiona, Diana, Berta, Anne]    None\n",
       "Claudio       m      [Berta, Anne, Claudia, Fiona, Diana]    None\n",
       "Dieter        m      [Diana, Berta, Anne, Claudia, Fiona]    None\n",
       "Emil          m      [Fiona, Diana, Berta, Anne, Claudia]    None"
      ]
     },
     "execution_count": 4,
     "metadata": {},
     "output_type": "execute_result"
    }
   ],
   "source": [
    "df_people"
   ]
  },
  {
   "cell_type": "code",
   "execution_count": 5,
   "id": "fe14eb37",
   "metadata": {},
   "outputs": [
    {
     "name": "stdout",
     "output_type": "stream",
     "text": [
      "         Gender                               Preferences Partner\n",
      "Name                                                             \n",
      "Anne          f  [Dieter, Emil, Claudio, Berthold, Anton]    None\n",
      "Berta         f  [Dieter, Emil, Claudio, Berthold, Anton]    None\n",
      "Claudia       f  [Berthold, Anton, Dieter, Emil, Claudio]    None\n",
      "Diana         f  [Claudio, Berthold, Anton, Dieter, Emil]    None\n",
      "Fiona         f  [Dieter, Emil, Claudio, Berthold, Anton]    None\n",
      "Anton         m      [Claudia, Fiona, Diana, Berta, Anne]    None\n",
      "Berthold      m      [Claudia, Fiona, Diana, Berta, Anne]    None\n",
      "Claudio       m      [Berta, Anne, Claudia, Fiona, Diana]    None\n",
      "Dieter        m      [Diana, Berta, Anne, Claudia, Fiona]    None\n",
      "Emil          m      [Fiona, Diana, Berta, Anne, Claudia]    None\n"
     ]
    },
    {
     "data": {
      "text/plain": [
       "Name\n",
       "Anne        None\n",
       "Berta       None\n",
       "Claudia     None\n",
       "Diana       None\n",
       "Fiona       None\n",
       "Anton       None\n",
       "Berthold    None\n",
       "Claudio     None\n",
       "Dieter      None\n",
       "Emil        None\n",
       "Name: Partner, dtype: object"
      ]
     },
     "execution_count": 5,
     "metadata": {},
     "output_type": "execute_result"
    }
   ],
   "source": [
    "print(df_people)\n",
    "df_people[\"Partner\"]"
   ]
  },
  {
   "cell_type": "code",
   "execution_count": 6,
   "id": "a9352fb7",
   "metadata": {},
   "outputs": [
    {
     "name": "stdout",
     "output_type": "stream",
     "text": [
      "         Gender                               Preferences Partner\n",
      "Name                                                             \n",
      "Anne          f  [Dieter, Emil, Claudio, Berthold, Anton]    None\n",
      "Berta         f  [Dieter, Emil, Claudio, Berthold, Anton]    None\n",
      "Claudia       f  [Berthold, Anton, Dieter, Emil, Claudio]    None\n",
      "Diana         f  [Claudio, Berthold, Anton, Dieter, Emil]    None\n",
      "Fiona         f  [Dieter, Emil, Claudio, Berthold, Anton]    None\n",
      "Anton         m      [Claudia, Fiona, Diana, Berta, Anne]    None\n",
      "Berthold      m      [Claudia, Fiona, Diana, Berta, Anne]    None\n",
      "Claudio       m      [Berta, Anne, Claudia, Fiona, Diana]    None\n",
      "Dieter        m      [Diana, Berta, Anne, Claudia, Fiona]    None\n",
      "Emil          m      [Fiona, Diana, Berta, Anne, Claudia]    None\n"
     ]
    },
    {
     "data": {
      "text/plain": [
       "Name\n",
       "Anne        True\n",
       "Berta       True\n",
       "Claudia     True\n",
       "Diana       True\n",
       "Fiona       True\n",
       "Anton       True\n",
       "Berthold    True\n",
       "Claudio     True\n",
       "Dieter      True\n",
       "Emil        True\n",
       "Name: Partner, dtype: bool"
      ]
     },
     "execution_count": 6,
     "metadata": {},
     "output_type": "execute_result"
    }
   ],
   "source": [
    "print(df_people)\n",
    "df_people[\"Partner\"].isnull()"
   ]
  },
  {
   "cell_type": "code",
   "execution_count": 7,
   "id": "b37984c5",
   "metadata": {},
   "outputs": [
    {
     "ename": "SyntaxError",
     "evalue": "invalid syntax (1779411864.py, line 4)",
     "output_type": "error",
     "traceback": [
      "\u001b[0;36m  File \u001b[0;32m\"/tmp/ipykernel_23942/1779411864.py\"\u001b[0;36m, line \u001b[0;32m4\u001b[0m\n\u001b[0;31m    if row[\"Partner\"] not None:\u001b[0m\n\u001b[0m                          ^\u001b[0m\n\u001b[0;31mSyntaxError\u001b[0m\u001b[0;31m:\u001b[0m invalid syntax\n"
     ]
    }
   ],
   "source": [
    "def validate_program_state(df_people):\n",
    "    count_number_of_partners = 0\n",
    "    for index, row in df_people.iterrows():\n",
    "        if row[\"Partner\"] is not None:\n",
    "            count_number_of_partners = count_number_of_partners + 1\n",
    "            \n",
    "    if (count_number_of_partners % 2) == 0:\n",
    "        raise ValueError(\"Error occurred :-(\")"
   ]
  },
  {
   "cell_type": "code",
   "execution_count": null,
   "id": "81ec8bde",
   "metadata": {},
   "outputs": [],
   "source": [
    "while pd.isnull(df_people[\"Partner\"]).any():\n",
    "    for man_index, man_row in df_people[(df_people[\"Gender\"] == \"m\") & (df_people[\"Partner\"].isnull())].iterrows():\n",
    "        for woman_index in man_row[\"Preferences\"]: # woman_index = \"Claudia\"\n",
    "            # Select cell where row = \"Claudia\" and column = \"Partner\" and see if it is None.\n",
    "            current_partner_of_the_woman = df_people.loc[woman_index, \"Partner\"]\n",
    "            woman_preferences = df_people.loc[woman_index, 'Preferences']\n",
    "            validate_program_state(df_people)\n",
    "            print(f\"Man: {man_index}\\n {df_people}\")\n",
    "            print(\"\\n\\n\\n\")\n",
    "            print(f\"woman_index: {woman_index}\")\n",
    "            print(f\"woman_preferences: {woman_preferences}\")\n",
    "            \n",
    "\n",
    "            if current_partner_of_the_woman == None: \n",
    "                df_people.loc[woman_index, \"Partner\"] = man_index\n",
    "                df_people.loc[man_index, \"Partner\"] = woman_index\n",
    "                break # Continue -> Immediately jump to the next element in the current loop. \n",
    "\n",
    "            else: # Paragraph 2 of the instructions. \"If a woman is not free...\"\n",
    "                proposing_man = man_index\n",
    "\n",
    "                if woman_preferences.index(proposing_man) < woman_preferences.index(current_partner_of_the_woman):\n",
    "                    # Divorce and new partner\n",
    "                    # Change current partner of the woman to the proposing man\n",
    "                    df_people.loc[woman_index, \"Partner\"] = proposing_man\n",
    "                    # Existing (prior) partner is now alone\n",
    "                    df_people.loc[current_partner_of_the_woman, \"Partner\"] = None\n",
    "                    # New partner gets married to the woman\n",
    "                    df_people.loc[man_index, \"Partner\"] = woman_index\n",
    "                    break\n",
    "                    \n"
   ]
  },
  {
   "cell_type": "code",
   "execution_count": null,
   "id": "bd23fa1b",
   "metadata": {},
   "outputs": [],
   "source": []
  },
  {
   "cell_type": "code",
   "execution_count": null,
   "id": "ba3c5fd3",
   "metadata": {},
   "outputs": [],
   "source": []
  }
 ],
 "metadata": {
  "kernelspec": {
   "display_name": "Python 3 (ipykernel)",
   "language": "python",
   "name": "python3"
  },
  "language_info": {
   "codemirror_mode": {
    "name": "ipython",
    "version": 3
   },
   "file_extension": ".py",
   "mimetype": "text/x-python",
   "name": "python",
   "nbconvert_exporter": "python",
   "pygments_lexer": "ipython3",
   "version": "3.9.13"
  },
  "toc": {
   "base_numbering": 1,
   "nav_menu": {},
   "number_sections": true,
   "sideBar": true,
   "skip_h1_title": false,
   "title_cell": "Table of Contents",
   "title_sidebar": "Contents",
   "toc_cell": false,
   "toc_position": {},
   "toc_section_display": true,
   "toc_window_display": false
  }
 },
 "nbformat": 4,
 "nbformat_minor": 5
}
