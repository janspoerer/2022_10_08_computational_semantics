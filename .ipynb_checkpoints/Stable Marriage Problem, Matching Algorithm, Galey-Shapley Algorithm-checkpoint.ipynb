{
 "cells": [
  {
   "cell_type": "markdown",
   "id": "e3144f67",
   "metadata": {},
   "source": [
    "Given n men and n women, where each person has ranked all potential mates (from the opposite sex), match those people so that no two people of opposite sex would both rather have each other than their current partners."
   ]
  },
  {
   "cell_type": "code",
   "execution_count": 4,
   "id": "a4ec60b7",
   "metadata": {},
   "outputs": [
    {
     "name": "stdout",
     "output_type": "stream",
     "text": [
      "'Preference List.xlsx'\r\n",
      " README.md\r\n",
      "'Stable Marriage Problem, Matching Algorithm, Galey-Shapley Algorithm.ipynb'\r\n"
     ]
    }
   ],
   "source": [
    "!ls"
   ]
  },
  {
   "cell_type": "code",
   "execution_count": 70,
   "id": "7b0d8f4d",
   "metadata": {},
   "outputs": [
    {
     "data": {
      "text/plain": [
       "str"
      ]
     },
     "execution_count": 70,
     "metadata": {},
     "output_type": "execute_result"
    }
   ],
   "source": [
    "import pandas as pd\n",
    "df_people = pd.read_excel(\"Preference List.xlsx\")\n",
    "type(df_people.loc[0, \"Preferences\"])"
   ]
  },
  {
   "cell_type": "code",
   "execution_count": 71,
   "id": "948c18f9",
   "metadata": {},
   "outputs": [
    {
     "data": {
      "text/plain": [
       "['Dieter', ' Emil', ' Claudio', ' Berthold', ' Anton']"
      ]
     },
     "execution_count": 71,
     "metadata": {},
     "output_type": "execute_result"
    }
   ],
   "source": [
    "df_people[\"Preferences\"].str.split(\",\", expand=False)[0]"
   ]
  },
  {
   "cell_type": "code",
   "execution_count": 72,
   "id": "597d28eb",
   "metadata": {},
   "outputs": [
    {
     "data": {
      "text/html": [
       "<div>\n",
       "<style scoped>\n",
       "    .dataframe tbody tr th:only-of-type {\n",
       "        vertical-align: middle;\n",
       "    }\n",
       "\n",
       "    .dataframe tbody tr th {\n",
       "        vertical-align: top;\n",
       "    }\n",
       "\n",
       "    .dataframe thead th {\n",
       "        text-align: right;\n",
       "    }\n",
       "</style>\n",
       "<table border=\"1\" class=\"dataframe\">\n",
       "  <thead>\n",
       "    <tr style=\"text-align: right;\">\n",
       "      <th></th>\n",
       "      <th>Name</th>\n",
       "      <th>Gender</th>\n",
       "      <th>Preferences</th>\n",
       "      <th>Partner</th>\n",
       "    </tr>\n",
       "  </thead>\n",
       "  <tbody>\n",
       "    <tr>\n",
       "      <th>0</th>\n",
       "      <td>Anne</td>\n",
       "      <td>f</td>\n",
       "      <td>[Dieter, Emil, Claudio, Berthold, Anton]</td>\n",
       "      <td>None</td>\n",
       "    </tr>\n",
       "    <tr>\n",
       "      <th>1</th>\n",
       "      <td>Berta</td>\n",
       "      <td>f</td>\n",
       "      <td>[Dieter, Emil, Claudio, Berthold, Anton]</td>\n",
       "      <td>None</td>\n",
       "    </tr>\n",
       "    <tr>\n",
       "      <th>2</th>\n",
       "      <td>Claudia</td>\n",
       "      <td>f</td>\n",
       "      <td>[Berthold, Anton, Dieter, Emil, Claudio]</td>\n",
       "      <td>None</td>\n",
       "    </tr>\n",
       "    <tr>\n",
       "      <th>3</th>\n",
       "      <td>Diana</td>\n",
       "      <td>f</td>\n",
       "      <td>[Claudio, Berthold, Anton, Dieter, Emil]</td>\n",
       "      <td>None</td>\n",
       "    </tr>\n",
       "    <tr>\n",
       "      <th>4</th>\n",
       "      <td>Fiona</td>\n",
       "      <td>f</td>\n",
       "      <td>[Dieter, Emil, Claudio, Berthold, Anton]</td>\n",
       "      <td>None</td>\n",
       "    </tr>\n",
       "    <tr>\n",
       "      <th>5</th>\n",
       "      <td>Anton</td>\n",
       "      <td>m</td>\n",
       "      <td>[Claudia, Fiona, Diana, Berta, Anne]</td>\n",
       "      <td>None</td>\n",
       "    </tr>\n",
       "    <tr>\n",
       "      <th>6</th>\n",
       "      <td>Berthold</td>\n",
       "      <td>m</td>\n",
       "      <td>[Claudia, Fiona, Diana, Berta, Anne]</td>\n",
       "      <td>None</td>\n",
       "    </tr>\n",
       "    <tr>\n",
       "      <th>7</th>\n",
       "      <td>Claudio</td>\n",
       "      <td>m</td>\n",
       "      <td>[Berta, Anne, Claudia, Fiona, Diana]</td>\n",
       "      <td>None</td>\n",
       "    </tr>\n",
       "    <tr>\n",
       "      <th>8</th>\n",
       "      <td>Dieter</td>\n",
       "      <td>m</td>\n",
       "      <td>[Diana, Berta, Anne, Claudia, Fiona]</td>\n",
       "      <td>None</td>\n",
       "    </tr>\n",
       "    <tr>\n",
       "      <th>9</th>\n",
       "      <td>Emil</td>\n",
       "      <td>m</td>\n",
       "      <td>[Fiona, Diana, Berta, Anne, Claudia]</td>\n",
       "      <td>None</td>\n",
       "    </tr>\n",
       "  </tbody>\n",
       "</table>\n",
       "</div>"
      ],
      "text/plain": [
       "       Name Gender                               Preferences Partner\n",
       "0      Anne      f  [Dieter, Emil, Claudio, Berthold, Anton]    None\n",
       "1     Berta      f  [Dieter, Emil, Claudio, Berthold, Anton]    None\n",
       "2   Claudia      f  [Berthold, Anton, Dieter, Emil, Claudio]    None\n",
       "3     Diana      f  [Claudio, Berthold, Anton, Dieter, Emil]    None\n",
       "4     Fiona      f  [Dieter, Emil, Claudio, Berthold, Anton]    None\n",
       "5     Anton      m      [Claudia, Fiona, Diana, Berta, Anne]    None\n",
       "6  Berthold      m      [Claudia, Fiona, Diana, Berta, Anne]    None\n",
       "7   Claudio      m      [Berta, Anne, Claudia, Fiona, Diana]    None\n",
       "8    Dieter      m      [Diana, Berta, Anne, Claudia, Fiona]    None\n",
       "9      Emil      m      [Fiona, Diana, Berta, Anne, Claudia]    None"
      ]
     },
     "execution_count": 72,
     "metadata": {},
     "output_type": "execute_result"
    }
   ],
   "source": [
    "df_people[\"Preferences\"] = df_people[\"Preferences\"].str.split(\", \", expand=False)\n",
    "df_people[\"Partner\"] = None\n",
    "df_people"
   ]
  },
  {
   "cell_type": "markdown",
   "id": "14200d58",
   "metadata": {},
   "source": [
    "## Implementation of the Galey-Shapley Algorithm\n",
    "\n",
    "Every free men gets a women according to his preference (if she is still free). Assign women to men by iterating over all men.\n",
    "\n",
    "If a woman is not free, and she finds that she linked the proposing man more than her current partner, then she takes the proposing man.\n",
    "\n",
    "Repeat the entire process over and over until everybody is married"
   ]
  },
  {
   "cell_type": "code",
   "execution_count": 74,
   "id": "aa016df6",
   "metadata": {},
   "outputs": [
    {
     "name": "stdout",
     "output_type": "stream",
     "text": [
      "\n",
      "Preferences for Anton: ['Claudia', 'Fiona', 'Diana', 'Berta', 'Anne']\n",
      "\n",
      "Preferences for Berthold: ['Claudia', 'Fiona', 'Diana', 'Berta', 'Anne']\n",
      "\n",
      "Preferences for Claudio: ['Berta', 'Anne', 'Claudia', 'Fiona', 'Diana']\n",
      "\n",
      "Preferences for Dieter: ['Diana', 'Berta', 'Anne', 'Claudia', 'Fiona']\n",
      "\n",
      "Preferences for Emil: ['Fiona', 'Diana', 'Berta', 'Anne', 'Claudia']\n",
      "              Name Gender                               Preferences   Partner\n",
      "Name                                                                         \n",
      "Anne          Anne      f  [Dieter, Emil, Claudio, Berthold, Anton]      Emil\n",
      "Berta        Berta      f  [Dieter, Emil, Claudio, Berthold, Anton]   Claudio\n",
      "Claudia    Claudia      f  [Berthold, Anton, Dieter, Emil, Claudio]     Anton\n",
      "Diana        Diana      f  [Claudio, Berthold, Anton, Dieter, Emil]    Dieter\n",
      "Fiona        Fiona      f  [Dieter, Emil, Claudio, Berthold, Anton]  Berthold\n",
      "Anton        Anton      m      [Claudia, Fiona, Diana, Berta, Anne]   Claudia\n",
      "Berthold  Berthold      m      [Claudia, Fiona, Diana, Berta, Anne]     Fiona\n",
      "Claudio    Claudio      m      [Berta, Anne, Claudia, Fiona, Diana]     Berta\n",
      "Dieter      Dieter      m      [Diana, Berta, Anne, Claudia, Fiona]     Diana\n",
      "Emil          Emil      m      [Fiona, Diana, Berta, Anne, Claudia]      Anne\n"
     ]
    }
   ],
   "source": [
    "df_people = df_people.set_index(\"Name\", drop=False)\n",
    "for man_index, man_row in df_people[df_people[\"Gender\"] == \"m\"].iterrows():\n",
    "    print(f\"\\nPreferences for {man_index}: {man_row['Preferences']}\")\n",
    "    for woman_index in man_row[\"Preferences\"]:\n",
    "        if df_people.loc[woman_index, \"Partner\"] == None:\n",
    "            df_people.loc[woman_index, \"Partner\"] = man_index\n",
    "            df_people.loc[man_index, \"Partner\"] = woman_index\n",
    "            \n",
    "            break # Continue -> Immediately jump to the next element in the current loop. \n",
    "print(df_people)"
   ]
  },
  {
   "cell_type": "code",
   "execution_count": null,
   "id": "9b2cd14b",
   "metadata": {},
   "outputs": [],
   "source": []
  }
 ],
 "metadata": {
  "kernelspec": {
   "display_name": "Python 3 (ipykernel)",
   "language": "python",
   "name": "python3"
  },
  "language_info": {
   "codemirror_mode": {
    "name": "ipython",
    "version": 3
   },
   "file_extension": ".py",
   "mimetype": "text/x-python",
   "name": "python",
   "nbconvert_exporter": "python",
   "pygments_lexer": "ipython3",
   "version": "3.9.13"
  },
  "toc": {
   "base_numbering": 1,
   "nav_menu": {},
   "number_sections": true,
   "sideBar": true,
   "skip_h1_title": false,
   "title_cell": "Table of Contents",
   "title_sidebar": "Contents",
   "toc_cell": false,
   "toc_position": {},
   "toc_section_display": true,
   "toc_window_display": false
  }
 },
 "nbformat": 4,
 "nbformat_minor": 5
}
